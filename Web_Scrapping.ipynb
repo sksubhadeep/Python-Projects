{
 "cells": [
  {
   "cell_type": "code",
   "execution_count": 3,
   "id": "2d6af934",
   "metadata": {},
   "outputs": [],
   "source": [
    "from bs4 import BeautifulSoup\n",
    "import requests"
   ]
  },
  {
   "cell_type": "code",
   "execution_count": 4,
   "id": "62ea0b09",
   "metadata": {},
   "outputs": [],
   "source": [
    "url = 'https://www.scrapethissite.com/pages/forms/'"
   ]
  },
  {
   "cell_type": "code",
   "execution_count": 7,
   "id": "ee86350a",
   "metadata": {},
   "outputs": [],
   "source": [
    "page = requests.get(url)"
   ]
  },
  {
   "cell_type": "code",
   "execution_count": 10,
   "id": "4aa1e06c",
   "metadata": {},
   "outputs": [],
   "source": [
    "soup = BeautifulSoup(page.text, 'html')"
   ]
  },
  {
   "cell_type": "code",
   "execution_count": 11,
   "id": "0649c507",
   "metadata": {},
   "outputs": [
    {
     "data": {
      "text/plain": [
       "<div class=\"container\">\n",
       "<div class=\"col-md-12\">\n",
       "<ul class=\"nav nav-tabs\">\n",
       "<li id=\"nav-homepage\">\n",
       "<a class=\"nav-link hidden-sm hidden-xs\" href=\"/\">\n",
       "<img id=\"nav-logo\" src=\"/static/images/scraper-icon.png\"/>\n",
       "                                Scrape This Site\n",
       "                            </a>\n",
       "</li>\n",
       "<li id=\"nav-sandbox\">\n",
       "<a class=\"nav-link\" href=\"/pages/\">\n",
       "<i class=\"glyphicon glyphicon-console hidden-sm hidden-xs\"></i>\n",
       "                                Sandbox\n",
       "                            </a>\n",
       "</li>\n",
       "<li id=\"nav-lessons\">\n",
       "<a class=\"nav-link\" href=\"/lessons/\">\n",
       "<i class=\"glyphicon glyphicon-education hidden-sm hidden-xs\"></i>\n",
       "                                Lessons\n",
       "                            </a>\n",
       "</li>\n",
       "<li id=\"nav-faq\">\n",
       "<a class=\"nav-link\" href=\"/faq/\">\n",
       "<i class=\"glyphicon glyphicon-flag hidden-sm hidden-xs\"></i>\n",
       "                                FAQ\n",
       "                            </a>\n",
       "</li>\n",
       "<li class=\"pull-right\" id=\"nav-login\">\n",
       "<a class=\"nav-link\" href=\"/login/\">\n",
       "                                Login\n",
       "                            </a>\n",
       "</li>\n",
       "</ul>\n",
       "</div>\n",
       "</div>"
      ]
     },
     "execution_count": 11,
     "metadata": {},
     "output_type": "execute_result"
    }
   ],
   "source": [
    "soup.find('div')"
   ]
  },
  {
   "cell_type": "code",
   "execution_count": 15,
   "id": "4ab1bb93",
   "metadata": {},
   "outputs": [
    {
     "data": {
      "text/plain": [
       "[<div class=\"col-md-12\">\n",
       " <ul class=\"nav nav-tabs\">\n",
       " <li id=\"nav-homepage\">\n",
       " <a class=\"nav-link hidden-sm hidden-xs\" href=\"/\">\n",
       " <img id=\"nav-logo\" src=\"/static/images/scraper-icon.png\"/>\n",
       "                                 Scrape This Site\n",
       "                             </a>\n",
       " </li>\n",
       " <li id=\"nav-sandbox\">\n",
       " <a class=\"nav-link\" href=\"/pages/\">\n",
       " <i class=\"glyphicon glyphicon-console hidden-sm hidden-xs\"></i>\n",
       "                                 Sandbox\n",
       "                             </a>\n",
       " </li>\n",
       " <li id=\"nav-lessons\">\n",
       " <a class=\"nav-link\" href=\"/lessons/\">\n",
       " <i class=\"glyphicon glyphicon-education hidden-sm hidden-xs\"></i>\n",
       "                                 Lessons\n",
       "                             </a>\n",
       " </li>\n",
       " <li id=\"nav-faq\">\n",
       " <a class=\"nav-link\" href=\"/faq/\">\n",
       " <i class=\"glyphicon glyphicon-flag hidden-sm hidden-xs\"></i>\n",
       "                                 FAQ\n",
       "                             </a>\n",
       " </li>\n",
       " <li class=\"pull-right\" id=\"nav-login\">\n",
       " <a class=\"nav-link\" href=\"/login/\">\n",
       "                                 Login\n",
       "                             </a>\n",
       " </li>\n",
       " </ul>\n",
       " </div>,\n",
       " <div class=\"col-md-12\">\n",
       " <h1>\n",
       "                             Hockey Teams: Forms, Searching and Pagination\n",
       "                             <small>25 items</small>\n",
       " </h1>\n",
       " <hr/>\n",
       " </div>,\n",
       " <div class=\"col-md-12\">\n",
       " <p class=\"lead\">\n",
       "                             Browse through a database of NHL team stats since 1990. Practice building a scraper that handles common website interface components.\n",
       "                             Take a look at how pagination and search elements change the URL as your browse. Build a web scraper that can conduct searches and paginate through the results.\n",
       "                         </p>\n",
       " <hr/>\n",
       " </div>,\n",
       " <div class=\"col-md-12 text-center\">\n",
       " <form action=\"/pages/forms/\" class=\"form form-inline\" method=\"GET\">\n",
       " <label for=\"q\">\n",
       "                                 Search for Teams:  \n",
       "                             </label>\n",
       " <input class=\"form-control\" id=\"q\" name=\"q\" placeholder=\"Search for Teams\" type=\"text\"/>\n",
       " <input class=\"btn btn-primary\" type=\"submit\" value=\"Search\"/>\n",
       " </form>\n",
       " <hr/>\n",
       " </div>,\n",
       " <div class=\"col-md-12 text-center text-muted\">\n",
       "                     Lessons and Videos © Hartley Brody 2023\n",
       "                 </div>]"
      ]
     },
     "execution_count": 15,
     "metadata": {},
     "output_type": "execute_result"
    }
   ],
   "source": [
    "soup.find_all('div', class_ = 'col-md-12')"
   ]
  },
  {
   "cell_type": "code",
   "execution_count": 16,
   "id": "9e16a748",
   "metadata": {},
   "outputs": [
    {
     "data": {
      "text/plain": [
       "[<p class=\"lead\">\n",
       "                             Browse through a database of NHL team stats since 1990. Practice building a scraper that handles common website interface components.\n",
       "                             Take a look at how pagination and search elements change the URL as your browse. Build a web scraper that can conduct searches and paginate through the results.\n",
       "                         </p>]"
      ]
     },
     "execution_count": 16,
     "metadata": {},
     "output_type": "execute_result"
    }
   ],
   "source": [
    "soup.find_all('p' , class_ = 'lead')"
   ]
  },
  {
   "cell_type": "code",
   "execution_count": 19,
   "id": "1908474c",
   "metadata": {},
   "outputs": [
    {
     "data": {
      "text/plain": [
       "'Browse through a database of NHL team stats since 1990. Practice building a scraper that handles common website interface components.\\n                            Take a look at how pagination and search elements change the URL as your browse. Build a web scraper that can conduct searches and paginate through the results.'"
      ]
     },
     "execution_count": 19,
     "metadata": {},
     "output_type": "execute_result"
    }
   ],
   "source": [
    "soup.find('p' , class_ = 'lead').text.strip()"
   ]
  },
  {
   "cell_type": "code",
   "execution_count": null,
   "id": "3580f676",
   "metadata": {},
   "outputs": [],
   "source": []
  }
 ],
 "metadata": {
  "kernelspec": {
   "display_name": "Python 3 (ipykernel)",
   "language": "python",
   "name": "python3"
  },
  "language_info": {
   "codemirror_mode": {
    "name": "ipython",
    "version": 3
   },
   "file_extension": ".py",
   "mimetype": "text/x-python",
   "name": "python",
   "nbconvert_exporter": "python",
   "pygments_lexer": "ipython3",
   "version": "3.9.12"
  }
 },
 "nbformat": 4,
 "nbformat_minor": 5
}
