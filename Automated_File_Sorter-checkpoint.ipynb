{
 "cells": [
  {
   "cell_type": "code",
   "execution_count": 22,
   "id": "ed8cee47",
   "metadata": {},
   "outputs": [],
   "source": [
    "import os, shutil"
   ]
  },
  {
   "cell_type": "code",
   "execution_count": 23,
   "id": "b3e4d7d7",
   "metadata": {},
   "outputs": [],
   "source": [
    "path =r\"C:/Users/sksub/OneDrive/Desktop/Data/Automated File Sorter Project/\" #Path of the files in raw format\n",
    "\n",
    "file_names = os.listdir(path) #Shows whatfiles are within that path\n",
    "\n",
    "folder_names= ['csv_files','text_files','image_files']\n",
    "for i in range(len(folder_names)):\n",
    "    if not os.path.exists(path + folder_names[i]):\n",
    "        os.makedirs(path + folder_names[i])\n",
    "        \n",
    "for j in file_names:\n",
    "    if \".csv\" in j and not os.path.exists(path + folder_names[0] + \"/\" + j ):\n",
    "        shutil.move(path + j,path + folder_names[0] + \"/\" + j)\n",
    "    elif \".txt\" in j and not os.path.exists(path + folder_names[1] + \"/\" + j ):\n",
    "        shutil.move(path + j,path + folder_names[1] + \"/\" + j)\n",
    "    elif \".PNG\" in j and not os.path.exists(path + folder_names[2] + \"/\" + j ):\n",
    "        shutil.move(path + j,path + folder_names[2] + \"/\" + j)\n",
    "    else:\n",
    "        continue"
   ]
  },
  {
   "cell_type": "code",
   "execution_count": null,
   "id": "04b50a9b",
   "metadata": {},
   "outputs": [],
   "source": []
  }
 ],
 "metadata": {
  "kernelspec": {
   "display_name": "Python 3 (ipykernel)",
   "language": "python",
   "name": "python3"
  },
  "language_info": {
   "codemirror_mode": {
    "name": "ipython",
    "version": 3
   },
   "file_extension": ".py",
   "mimetype": "text/x-python",
   "name": "python",
   "nbconvert_exporter": "python",
   "pygments_lexer": "ipython3",
   "version": "3.9.12"
  }
 },
 "nbformat": 4,
 "nbformat_minor": 5
}
